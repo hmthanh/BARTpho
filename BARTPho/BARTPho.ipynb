{
 "cells": [
  {
   "cell_type": "code",
   "execution_count": 2,
   "id": "f34f93c3",
   "metadata": {},
   "outputs": [
    {
     "name": "stdout",
     "output_type": "stream",
     "text": [
      "Python 3.10.0\n"
     ]
    }
   ],
   "source": [
    "!python --version"
   ]
  },
  {
   "cell_type": "code",
   "execution_count": 3,
   "id": "11b664ea",
   "metadata": {},
   "outputs": [],
   "source": [
    "import torch\n",
    "from transformers import AutoModel, AutoTokenizer"
   ]
  },
  {
   "cell_type": "code",
   "execution_count": 4,
   "id": "d1d49cb3",
   "metadata": {},
   "outputs": [],
   "source": [
    "#BARTpho-syllable\n",
    "syllable_tokenizer = AutoTokenizer.from_pretrained(\"./\", use_fast=False)\n",
    "# sentencepiece.bpe.model\n",
    "# bartpho_syllable = AutoModel.from_pretrained(\"vinai/bartpho-syllable\")\n",
    "# TXT = 'Chúng tôi là những nghiên cứu viên.'  \n",
    "# input_ids = syllable_tokenizer(TXT, return_tensors='pt')['input_ids']\n",
    "# features = bartpho_syllable(input_ids)"
   ]
  },
  {
   "cell_type": "code",
   "execution_count": 5,
   "id": "f9f2ce3c",
   "metadata": {},
   "outputs": [],
   "source": [
    "syllable_tokenizer = AutoTokenizer.from_pretrained(\"vinai/bartpho-syllable\", use_fast=False)"
   ]
  },
  {
   "cell_type": "code",
   "execution_count": 6,
   "id": "e433c7cc",
   "metadata": {},
   "outputs": [],
   "source": [
    "import torch\n",
    "from transformers import AutoModel, AutoTokenizer\n",
    "\n",
    "#BARTpho-syllable\n",
    "syllable_tokenizer = AutoTokenizer.from_pretrained(\"vinai/bartpho-syllable\", use_fast=False)\n",
    "bartpho_syllable = AutoModel.from_pretrained(\"vinai/bartpho-syllable\")\n",
    "TXT = 'Chúng tôi là những nghiên cứu viên.'  \n",
    "input_ids = syllable_tokenizer(TXT, return_tensors='pt')['input_ids']\n",
    "features = bartpho_syllable(input_ids)"
   ]
  },
  {
   "cell_type": "code",
   "execution_count": null,
   "id": "fe804fcb",
   "metadata": {},
   "outputs": [],
   "source": []
  },
  {
   "cell_type": "code",
   "execution_count": 7,
   "id": "85036317",
   "metadata": {},
   "outputs": [
    {
     "data": {
      "text/plain": [
       "PreTrainedTokenizerFast(name_or_path='bert-base-cased', vocab_size=28996, model_max_len=512, is_fast=True, padding_side='right', truncation_side='right', special_tokens={'unk_token': '[UNK]', 'sep_token': '[SEP]', 'pad_token': '[PAD]', 'cls_token': '[CLS]', 'mask_token': '[MASK]'})"
      ]
     },
     "execution_count": 7,
     "metadata": {},
     "output_type": "execute_result"
    }
   ],
   "source": [
    "AutoTokenizer.from_pretrained(\"bert-base-cased\")"
   ]
  },
  {
   "cell_type": "code",
   "execution_count": 3,
   "id": "9838b28b",
   "metadata": {},
   "outputs": [],
   "source": [
    "# from transformers.models.auto.tokenization_auto import get_tokenizer_config\n",
    "\n",
    "# tokenizer.save_pretrained(\"tokenizer-test\")\n",
    "# tokenizer_config = get_tokenizer_config(\"tokenizer-test\")"
   ]
  },
  {
   "cell_type": "code",
   "execution_count": 1,
   "id": "fcc7a3c0",
   "metadata": {},
   "outputs": [],
   "source": [
    "# import torch\n",
    "# from transformers import AutoModel, AutoTokenizer\n",
    "\n",
    "# bartpho = AutoModel.from_pretrained(\"vinai/bartpho-syllable\")\n",
    "# # tokenizer = AutoTokenizer.from_pretrained(\"vinai/bartpho-syllable\")\n",
    "# tokenizer = AutoTokenizer.from_pretrained(\"vinai/bartpho-syllable\")\n",
    "\n",
    "# # line = \"Chúng tôi là những nghiên cứu viên.\"\n",
    "\n",
    "# # input_ids = tokenizer(line, return_tensors=\"pt\")\n",
    "\n",
    "# # with torch.no_grad():\n",
    "# #     features = bartpho(**input_ids)  # Models outputs are now tuples\n",
    "\n",
    "# # # With TensorFlow 2.0+:\n",
    "# # from transformers import TFAutoModel\n",
    "\n",
    "# # bartpho = TFAutoModel.from_pretrained(\"vinai/bartpho-syllable\")\n",
    "# # input_ids = tokenizer(line, return_tensors=\"tf\")\n",
    "# # features = bartpho(**input_ids)"
   ]
  },
  {
   "cell_type": "code",
   "execution_count": 19,
   "id": "f9132a22",
   "metadata": {},
   "outputs": [
    {
     "name": "stdout",
     "output_type": "stream",
     "text": [
      "pip 21.2.4 from /home/lap14784/miniconda3/envs/bartpho/lib/python3.10/site-packages/pip (python 3.10)\r\n"
     ]
    }
   ],
   "source": []
  },
  {
   "cell_type": "code",
   "execution_count": 2,
   "id": "1de27dd1",
   "metadata": {},
   "outputs": [],
   "source": [
    "# from transformers import MBartForConditionalGeneration\n",
    "\n",
    "# bartpho = MBartForConditionalGeneration.from_pretrained(\"vinai/bartpho-syllable\")\n",
    "# TXT = \"Chúng tôi là <mask> nghiên cứu viên.\"\n",
    "# input_ids = tokenizer([TXT], return_tensors=\"pt\")[\"input_ids\"]\n",
    "# logits = bartpho(input_ids).logits\n",
    "# masked_index = (input_ids[0] == tokenizer.mask_token_id).nonzero().item()\n",
    "# probs = logits[0, masked_index].softmax(dim=0)\n",
    "# values, predictions = probs.topk(5)\n",
    "# print(tokenizer.decode(predictions).split())"
   ]
  },
  {
   "cell_type": "code",
   "execution_count": null,
   "id": "83371b84",
   "metadata": {},
   "outputs": [],
   "source": [
    "# bartpho_syllable = AutoModel.from_pretrained(\"vinai/bartpho-syllable\")\n",
    "# TXT = 'Chúng tôi là những nghiên cứu viên.'  \n",
    "# input_ids = syllable_tokenizer(TXT, return_tensors='pt')['input_ids']\n",
    "# features = bartpho_syllable(input_ids)"
   ]
  },
  {
   "cell_type": "code",
   "execution_count": 13,
   "id": "7adec60c",
   "metadata": {},
   "outputs": [
    {
     "name": "stdout",
     "output_type": "stream",
     "text": [
      "['việc', 'thứ', 'chuyện', 'công', 'điều']\n"
     ]
    }
   ],
   "source": [
    "from transformers import MBartForConditionalGeneration\n",
    "bartpho_syllable = MBartForConditionalGeneration.from_pretrained(\"vinai/bartpho-syllable\")\n",
    "TXT = 'Cách bạn làm một việc là cách bạn làm mọi <mask>.'\n",
    "input_ids = syllable_tokenizer(TXT, return_tensors='pt')['input_ids']\n",
    "logits = bartpho_syllable(input_ids).logits\n",
    "masked_index = (input_ids[0] == syllable_tokenizer.mask_token_id).nonzero().item()\n",
    "probs = logits[0, masked_index].softmax(dim=0)\n",
    "values, predictions = probs.topk(5)\n",
    "print(syllable_tokenizer.decode(predictions).split())"
   ]
  },
  {
   "cell_type": "code",
   "execution_count": 14,
   "id": "cc4c3e88",
   "metadata": {},
   "outputs": [
    {
     "data": {
      "text/plain": [
       "tensor([[    0,  1621,   144,    50,    14,    48,     9,   162,   144,    50,\n",
       "           513, 40029,    23,     5,     2]])"
      ]
     },
     "execution_count": 14,
     "metadata": {},
     "output_type": "execute_result"
    }
   ],
   "source": [
    "input_ids"
   ]
  },
  {
   "cell_type": "code",
   "execution_count": null,
   "id": "ac9a5fc2",
   "metadata": {},
   "outputs": [],
   "source": [
    "\n",
    "\n",
    "torch.onnx.export(bartpho_syllable,               # model being run\n",
    "                  input_ids,                         # model input (or a tuple for multiple inputs)\n",
    "                  \"bartpho.onnx\",   # where to save the model (can be a file or file-like object)\n",
    "                  export_params=True,        # store the trained parameter weights inside the model file\n",
    "                  opset_version=11,          # the ONNX version to export the model to\n",
    "                  do_constant_folding=True,  # whether to execute constant folding for optimization\n",
    "                  input_names = ['input'],   # the model's input names\n",
    "                  output_names = ['output'], # the model's output names\n",
    "                  dynamic_axes={'input' : {0 : 'batch_size'},    # variable length axes\n",
    "                                'output' : {0 : 'batch_size'}})"
   ]
  },
  {
   "cell_type": "code",
   "execution_count": null,
   "id": "84ae2a97",
   "metadata": {},
   "outputs": [],
   "source": [
    "# #BARTpho-word\n",
    "# word_tokenizer = AutoTokenizer.from_pretrained(\"vinai/bartpho-word\", use_fast=False)\n",
    "# bartpho_word = AutoModel.from_pretrained(\"vinai/bartpho-word\")\n",
    "# TXT = 'Chúng_tôi là những nghiên_cứu_viên .'  \n",
    "# input_ids = word_tokenizer(TXT, return_tensors='pt')['input_ids']\n",
    "# features = bartpho_word(input_ids)"
   ]
  },
  {
   "cell_type": "code",
   "execution_count": null,
   "id": "7a5632f2",
   "metadata": {},
   "outputs": [],
   "source": [
    "# bartpho_word = MBartForConditionalGeneration.from_pretrained(\"vinai/bartpho-word\")\n",
    "# TXT = 'Chúng_tôi là những <mask> .'\n",
    "# input_ids = word_tokenizer(TXT, return_tensors='pt')['input_ids']\n",
    "# logits = bartpho_word(input_ids).logits\n",
    "# masked_index = (input_ids[0] == word_tokenizer.mask_token_id).nonzero().item()\n",
    "# probs = logits[0, masked_index].softmax(dim=0)\n",
    "# values, predictions = probs.topk(5)\n",
    "# print(word_tokenizer.decode(predictions).split())"
   ]
  },
  {
   "cell_type": "code",
   "execution_count": null,
   "id": "83adc20c",
   "metadata": {},
   "outputs": [],
   "source": []
  },
  {
   "cell_type": "code",
   "execution_count": null,
   "id": "14268c89",
   "metadata": {},
   "outputs": [],
   "source": []
  },
  {
   "cell_type": "code",
   "execution_count": null,
   "id": "942d7d87",
   "metadata": {},
   "outputs": [],
   "source": []
  },
  {
   "cell_type": "code",
   "execution_count": null,
   "id": "8fd4dae1",
   "metadata": {},
   "outputs": [],
   "source": []
  },
  {
   "cell_type": "code",
   "execution_count": null,
   "id": "b488e12f",
   "metadata": {},
   "outputs": [],
   "source": []
  }
 ],
 "metadata": {
  "kernelspec": {
   "display_name": "Python 3 (ipykernel)",
   "language": "python",
   "name": "python3"
  },
  "language_info": {
   "codemirror_mode": {
    "name": "ipython",
    "version": 3
   },
   "file_extension": ".py",
   "mimetype": "text/x-python",
   "name": "python",
   "nbconvert_exporter": "python",
   "pygments_lexer": "ipython3",
   "version": "3.10.0"
  }
 },
 "nbformat": 4,
 "nbformat_minor": 5
}
